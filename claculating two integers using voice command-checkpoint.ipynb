{
 "cells": [
  {
   "cell_type": "code",
   "execution_count": null,
   "id": "c28bd5e6",
   "metadata": {},
   "outputs": [],
   "source": [
    "import speech_recognition as sr\n",
    "import pyttsx3\n",
    "from pyttsx3 import Engine\n",
    "\n",
    "listener = sr.Recognizer()\n",
    "engine: Engine = pyttsx3.init('sapi5')\n",
    "voices = engine.getProperty('voices')\n",
    "engine.setProperty('voice', voices[0].id)\n",
    "engine.setProperty('rate', 171)\n",
    "engine.setProperty('volume', 150)\n",
    "def take_command():\n",
    "    try:\n",
    "        with sr.Microphone() as source:\n",
    "            print('listening...')\n",
    "            voice = listener.listen(source)\n",
    "            commands = \"\"\n",
    "            commands = listener.recognize_google(voice)\n",
    "            listener.pause_threshold = 1\n",
    "            commands = commands.lower()\n",
    "\n",
    "            if 'genesis' in commands:\n",
    "                commands = commands.replace('genesis', '')\n",
    "                print(commands)\n",
    "    except:\n",
    "        return \"\"\n",
    "    return commands"
   ]
  },
  {
   "cell_type": "code",
   "execution_count": null,
   "id": "84e0a81b",
   "metadata": {},
   "outputs": [],
   "source": [
    "my_string = take_command()\n",
    "def calc(my_string):\n",
    "    print(my_string)\n",
    "\n",
    "    def get_operator_fn(op):\n",
    "        return {\n",
    "            '+': operator.add,\n",
    "            '-': operator.sub,\n",
    "            'x': operator.mul,\n",
    "            'divided': operator.__truediv__,\n",
    "        }[op]\n",
    "\n",
    "    def eval_binary_expr(op1, oper, op2):\n",
    "        op1, op2 = int(op1), int(op2)\n",
    "        return get_operator_fn(oper)(op1, op2)\n",
    "\n",
    "    print(\"Your result is\")\n",
    "    print(eval_binary_expr(*(my_string.split())))"
   ]
  },
  {
   "cell_type": "code",
   "execution_count": null,
   "id": "c0cd732d",
   "metadata": {},
   "outputs": [],
   "source": []
  }
 ],
 "metadata": {
  "kernelspec": {
   "display_name": "Python 3",
   "language": "python",
   "name": "python3"
  },
  "language_info": {
   "codemirror_mode": {
    "name": "ipython",
    "version": 3
   },
   "file_extension": ".py",
   "mimetype": "text/x-python",
   "name": "python",
   "nbconvert_exporter": "python",
   "pygments_lexer": "ipython3",
   "version": "3.8.8"
  }
 },
 "nbformat": 4,
 "nbformat_minor": 5
}
